{
 "cells": [
  {
   "cell_type": "code",
   "execution_count": null,
   "id": "716ee60c",
   "metadata": {},
   "outputs": [
    {
     "name": "stderr",
     "output_type": "stream",
     "text": [
      "INFO:__main__:Ta mère boit l'eau des pâtes\n",
      "WARNING:__main__:Oh putain l'eau est trop chaude\n",
      "ERROR:__main__:Elle en a foutu partout\n",
      "CRITICAL:__main__:Mais quel bordel !\n"
     ]
    }
   ],
   "source": [
    "import logging\n",
    "# Configuration de base du logging\n",
    "logging.basicConfig(level=logging.DEBUG)\n",
    "# Création d'un logger\n",
    "logger = logging.getLogger(__name__)\n",
    "\n",
    "logger.warning(\"Oh putain l'eau est trop chaude\")\n",
    "logger.error(\"Elle en a foutu partout\")\n",
    "logger.critical(\"Mais quel bordel !\")"
   ]
  },
  {
   "cell_type": "code",
   "execution_count": 6,
   "id": "964b23a9",
   "metadata": {},
   "outputs": [
    {
     "name": "stdout",
     "output_type": "stream",
     "text": [
      "egct htjs ebyj iqgk\n"
     ]
    }
   ],
   "source": [
    "import dotenv\n",
    "import os\n",
    "from dotenv import load_dotenv\n",
    "load_dotenv()\n",
    "MDP_GOOGLE = os.getenv(\"MDP_GOOGLE\")\n",
    "print(MDP_GOOGLE)"
   ]
  },
  {
   "cell_type": "code",
   "execution_count": 7,
   "id": "3fd2de7f",
   "metadata": {},
   "outputs": [
    {
     "name": "stdout",
     "output_type": "stream",
     "text": [
      "Collecting flask_monitoringdashboard\n",
      "  Downloading flask_monitoringdashboard-4.0.4-py3-none-any.whl.metadata (10 kB)\n",
      "Requirement already satisfied: click in ./env_debug/lib/python3.12/site-packages (from flask_monitoringdashboard) (8.2.1)\n",
      "Collecting apscheduler (from flask_monitoringdashboard)\n",
      "  Downloading APScheduler-3.11.0-py3-none-any.whl.metadata (6.4 kB)\n",
      "Requirement already satisfied: flask>=1.0.0 in ./env_debug/lib/python3.12/site-packages (from flask_monitoringdashboard) (3.1.2)\n",
      "Collecting sqlalchemy>=1.1.9 (from flask_monitoringdashboard)\n",
      "  Downloading sqlalchemy-2.0.43-cp312-cp312-manylinux_2_17_x86_64.manylinux2014_x86_64.whl.metadata (9.6 kB)\n",
      "Collecting configparser (from flask_monitoringdashboard)\n",
      "  Downloading configparser-7.2.0-py3-none-any.whl.metadata (5.5 kB)\n",
      "Requirement already satisfied: psutil in ./env_debug/lib/python3.12/site-packages (from flask_monitoringdashboard) (7.0.0)\n",
      "Collecting colorhash (from flask_monitoringdashboard)\n",
      "  Downloading colorhash-2.1.0-py3-none-any.whl.metadata (8.7 kB)\n",
      "Requirement already satisfied: numpy in ./env_debug/lib/python3.12/site-packages (from flask_monitoringdashboard) (2.3.3)\n",
      "Collecting pytz (from flask_monitoringdashboard)\n",
      "  Using cached pytz-2025.2-py2.py3-none-any.whl.metadata (22 kB)\n",
      "Collecting requests==2.32.0 (from flask_monitoringdashboard)\n",
      "  Downloading requests-2.32.0-py3-none-any.whl.metadata (4.6 kB)\n",
      "Collecting tzlocal==2.0 (from flask_monitoringdashboard)\n",
      "  Downloading tzlocal-2.0.0-py2.py3-none-any.whl.metadata (7.9 kB)\n",
      "Collecting scipy (from flask_monitoringdashboard)\n",
      "  Using cached scipy-1.16.2-cp312-cp312-manylinux2014_x86_64.manylinux_2_17_x86_64.whl.metadata (62 kB)\n",
      "Collecting charset-normalizer<4,>=2 (from requests==2.32.0->flask_monitoringdashboard)\n",
      "  Using cached charset_normalizer-3.4.3-cp312-cp312-manylinux2014_x86_64.manylinux_2_17_x86_64.manylinux_2_28_x86_64.whl.metadata (36 kB)\n",
      "Collecting idna<4,>=2.5 (from requests==2.32.0->flask_monitoringdashboard)\n",
      "  Using cached idna-3.10-py3-none-any.whl.metadata (10 kB)\n",
      "Collecting urllib3<3,>=1.21.1 (from requests==2.32.0->flask_monitoringdashboard)\n",
      "  Using cached urllib3-2.5.0-py3-none-any.whl.metadata (6.5 kB)\n",
      "Collecting certifi>=2017.4.17 (from requests==2.32.0->flask_monitoringdashboard)\n",
      "  Using cached certifi-2025.8.3-py3-none-any.whl.metadata (2.4 kB)\n",
      "Requirement already satisfied: blinker>=1.9.0 in ./env_debug/lib/python3.12/site-packages (from flask>=1.0.0->flask_monitoringdashboard) (1.9.0)\n",
      "Requirement already satisfied: itsdangerous>=2.2.0 in ./env_debug/lib/python3.12/site-packages (from flask>=1.0.0->flask_monitoringdashboard) (2.2.0)\n",
      "Requirement already satisfied: jinja2>=3.1.2 in ./env_debug/lib/python3.12/site-packages (from flask>=1.0.0->flask_monitoringdashboard) (3.1.6)\n",
      "Requirement already satisfied: markupsafe>=2.1.1 in ./env_debug/lib/python3.12/site-packages (from flask>=1.0.0->flask_monitoringdashboard) (3.0.2)\n",
      "Requirement already satisfied: werkzeug>=3.1.0 in ./env_debug/lib/python3.12/site-packages (from flask>=1.0.0->flask_monitoringdashboard) (3.1.3)\n",
      "Collecting greenlet>=1 (from sqlalchemy>=1.1.9->flask_monitoringdashboard)\n",
      "  Downloading greenlet-3.2.4-cp312-cp312-manylinux_2_24_x86_64.manylinux_2_28_x86_64.whl.metadata (4.1 kB)\n",
      "Requirement already satisfied: typing-extensions>=4.6.0 in ./env_debug/lib/python3.12/site-packages (from sqlalchemy>=1.1.9->flask_monitoringdashboard) (4.15.0)\n",
      "INFO: pip is looking at multiple versions of apscheduler to determine which version is compatible with other requirements. This could take a while.\n",
      "Collecting apscheduler (from flask_monitoringdashboard)\n",
      "  Downloading APScheduler-3.10.4-py3-none-any.whl.metadata (5.7 kB)\n",
      "Requirement already satisfied: six>=1.4.0 in ./env_debug/lib/python3.12/site-packages (from apscheduler->flask_monitoringdashboard) (1.17.0)\n",
      "\u001b[33mWARNING: The candidate selected for download or install is a yanked version: 'requests' candidate (version 2.32.0 at https://files.pythonhosted.org/packages/24/e8/09e8d662a9675a4e4f5dd7a8e6127b463a091d2703ed931a64aa66d00065/requests-2.32.0-py3-none-any.whl (from https://pypi.org/simple/requests/) (requires-python:>=3.8))\n",
      "Reason for being yanked: Yanked due to conflicts with CVE-2024-35195 mitigation\u001b[0m\u001b[33m\n",
      "\u001b[0mDownloading flask_monitoringdashboard-4.0.4-py3-none-any.whl (1.1 MB)\n",
      "\u001b[2K   \u001b[90m━━━━━━━━━━━━━━━━━━━━━━━━━━━━━━━━━━━━━━━━\u001b[0m \u001b[32m1.1/1.1 MB\u001b[0m \u001b[31m4.7 MB/s\u001b[0m eta \u001b[36m0:00:00\u001b[0m00:01\u001b[0m00:01\u001b[0m\n",
      "\u001b[?25hDownloading requests-2.32.0-py3-none-any.whl (63 kB)\n",
      "\u001b[2K   \u001b[90m━━━━━━━━━━━━━━━━━━━━━━━━━━━━━━━━━━━━━━━━\u001b[0m \u001b[32m63.7/63.7 kB\u001b[0m \u001b[31m2.7 MB/s\u001b[0m eta \u001b[36m0:00:00\u001b[0m\n",
      "\u001b[?25hDownloading tzlocal-2.0.0-py2.py3-none-any.whl (15 kB)\n",
      "Downloading sqlalchemy-2.0.43-cp312-cp312-manylinux_2_17_x86_64.manylinux2014_x86_64.whl (3.3 MB)\n",
      "\u001b[2K   \u001b[90m━━━━━━━━━━━━━━━━━━━━━━━━━━━━━━━━━━━━━━━━\u001b[0m \u001b[32m3.3/3.3 MB\u001b[0m \u001b[31m12.6 MB/s\u001b[0m eta \u001b[36m0:00:00\u001b[0m00:01\u001b[0m0:01\u001b[0mm\n",
      "\u001b[?25hDownloading APScheduler-3.10.4-py3-none-any.whl (59 kB)\n",
      "\u001b[2K   \u001b[90m━━━━━━━━━━━━━━━━━━━━━━━━━━━━━━━━━━━━━━━━\u001b[0m \u001b[32m59.3/59.3 kB\u001b[0m \u001b[31m4.0 MB/s\u001b[0m eta \u001b[36m0:00:00\u001b[0m\n",
      "\u001b[?25hDownloading colorhash-2.1.0-py3-none-any.whl (6.8 kB)\n",
      "Downloading configparser-7.2.0-py3-none-any.whl (17 kB)\n",
      "Using cached pytz-2025.2-py2.py3-none-any.whl (509 kB)\n",
      "Using cached scipy-1.16.2-cp312-cp312-manylinux2014_x86_64.manylinux_2_17_x86_64.whl (35.7 MB)\n",
      "Using cached certifi-2025.8.3-py3-none-any.whl (161 kB)\n",
      "Using cached charset_normalizer-3.4.3-cp312-cp312-manylinux2014_x86_64.manylinux_2_17_x86_64.manylinux_2_28_x86_64.whl (151 kB)\n",
      "Downloading greenlet-3.2.4-cp312-cp312-manylinux_2_24_x86_64.manylinux_2_28_x86_64.whl (607 kB)\n",
      "\u001b[2K   \u001b[90m━━━━━━━━━━━━━━━━━━━━━━━━━━━━━━━━━━━━━━━━\u001b[0m \u001b[32m607.6/607.6 kB\u001b[0m \u001b[31m11.5 MB/s\u001b[0m eta \u001b[36m0:00:00\u001b[0m00:01\u001b[0m\n",
      "\u001b[?25hUsing cached idna-3.10-py3-none-any.whl (70 kB)\n",
      "Using cached urllib3-2.5.0-py3-none-any.whl (129 kB)\n",
      "Installing collected packages: pytz, urllib3, tzlocal, scipy, idna, greenlet, configparser, colorhash, charset-normalizer, certifi, sqlalchemy, requests, apscheduler, flask_monitoringdashboard\n",
      "Successfully installed apscheduler-3.10.4 certifi-2025.8.3 charset-normalizer-3.4.3 colorhash-2.1.0 configparser-7.2.0 flask_monitoringdashboard-4.0.4 greenlet-3.2.4 idna-3.10 pytz-2025.2 requests-2.32.0 scipy-1.16.2 sqlalchemy-2.0.43 tzlocal-2.0.0 urllib3-2.5.0\n"
     ]
    }
   ],
   "source": [
    "!pip install flask_monitoringdashboard"
   ]
  },
  {
   "cell_type": "code",
   "execution_count": null,
   "id": "9fdf6e89",
   "metadata": {},
   "outputs": [],
   "source": []
  }
 ],
 "metadata": {
  "kernelspec": {
   "display_name": "env_debug",
   "language": "python",
   "name": "python3"
  },
  "language_info": {
   "codemirror_mode": {
    "name": "ipython",
    "version": 3
   },
   "file_extension": ".py",
   "mimetype": "text/x-python",
   "name": "python",
   "nbconvert_exporter": "python",
   "pygments_lexer": "ipython3",
   "version": "3.12.3"
  }
 },
 "nbformat": 4,
 "nbformat_minor": 5
}
