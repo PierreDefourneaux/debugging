{
 "cells": [
  {
   "cell_type": "code",
   "execution_count": null,
   "id": "716ee60c",
   "metadata": {},
   "outputs": [
    {
     "name": "stderr",
     "output_type": "stream",
     "text": [
      "INFO:__main__:Ta mère boit l'eau des pâtes\n",
      "WARNING:__main__:Oh putain l'eau est trop chaude\n",
      "ERROR:__main__:Elle en a foutu partout\n",
      "CRITICAL:__main__:Mais quel bordel !\n"
     ]
    }
   ],
   "source": [
    "import logging\n",
    "# Configuration de base du logging\n",
    "logging.basicConfig(level=logging.DEBUG)\n",
    "# Création d'un logger\n",
    "logger = logging.getLogger(__name__)\n",
    "\n",
    "logger.warning(\"Oh putain l'eau est trop chaude\")\n",
    "logger.error(\"Elle en a foutu partout\")\n",
    "logger.critical(\"Mais quel bordel !\")"
   ]
  },
  {
   "cell_type": "code",
   "execution_count": 6,
   "id": "964b23a9",
   "metadata": {},
   "outputs": [
    {
     "name": "stdout",
     "output_type": "stream",
     "text": [
      "egct htjs ebyj iqgk\n"
     ]
    }
   ],
   "source": [
    "import dotenv\n",
    "import os\n",
    "from dotenv import load_dotenv\n",
    "load_dotenv()\n",
    "MDP_GOOGLE = os.getenv(\"MDP_GOOGLE\")\n",
    "print(MDP_GOOGLE)"
   ]
  },
  {
   "cell_type": "code",
   "execution_count": null,
   "id": "9fdf6e89",
   "metadata": {},
   "outputs": [],
   "source": []
  }
 ],
 "metadata": {
  "kernelspec": {
   "display_name": "env_debug",
   "language": "python",
   "name": "python3"
  },
  "language_info": {
   "codemirror_mode": {
    "name": "ipython",
    "version": 3
   },
   "file_extension": ".py",
   "mimetype": "text/x-python",
   "name": "python",
   "nbconvert_exporter": "python",
   "pygments_lexer": "ipython3",
   "version": "3.12.3"
  }
 },
 "nbformat": 4,
 "nbformat_minor": 5
}
